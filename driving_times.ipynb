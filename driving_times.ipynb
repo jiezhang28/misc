{
 "cells": [
  {
   "cell_type": "code",
   "execution_count": 33,
   "metadata": {
    "collapsed": true
   },
   "outputs": [],
   "source": [
    "import pandas as pd\n",
    "import requests\n",
    "import pickle"
   ]
  },
  {
   "cell_type": "code",
   "execution_count": 5,
   "metadata": {
    "collapsed": false
   },
   "outputs": [],
   "source": [
    "#Read list of URLs to sent to Google API into dataframe\n",
    "df = pd.read_excel('Google API urls - Python.xlsx',header=None)\n",
    "df.columns = ['urls']"
   ]
  },
  {
   "cell_type": "code",
   "execution_count": 19,
   "metadata": {
    "collapsed": false
   },
   "outputs": [
    {
     "data": {
      "text/plain": [
       "(1728, 1)"
      ]
     },
     "execution_count": 19,
     "metadata": {},
     "output_type": "execute_result"
    }
   ],
   "source": [
    "df.shape"
   ]
  },
  {
   "cell_type": "code",
   "execution_count": 18,
   "metadata": {
    "collapsed": false
   },
   "outputs": [
    {
     "data": {
      "text/html": [
       "<div>\n",
       "<table border=\"1\" class=\"dataframe\">\n",
       "  <thead>\n",
       "    <tr style=\"text-align: right;\">\n",
       "      <th></th>\n",
       "      <th>urls</th>\n",
       "    </tr>\n",
       "  </thead>\n",
       "  <tbody>\n",
       "    <tr>\n",
       "      <th>0</th>\n",
       "      <td>https://maps.googleapis.com/maps/api/distancem...</td>\n",
       "    </tr>\n",
       "    <tr>\n",
       "      <th>1</th>\n",
       "      <td>https://maps.googleapis.com/maps/api/distancem...</td>\n",
       "    </tr>\n",
       "    <tr>\n",
       "      <th>2</th>\n",
       "      <td>https://maps.googleapis.com/maps/api/distancem...</td>\n",
       "    </tr>\n",
       "    <tr>\n",
       "      <th>3</th>\n",
       "      <td>https://maps.googleapis.com/maps/api/distancem...</td>\n",
       "    </tr>\n",
       "    <tr>\n",
       "      <th>4</th>\n",
       "      <td>https://maps.googleapis.com/maps/api/distancem...</td>\n",
       "    </tr>\n",
       "  </tbody>\n",
       "</table>\n",
       "</div>"
      ],
      "text/plain": [
       "                                                urls\n",
       "0  https://maps.googleapis.com/maps/api/distancem...\n",
       "1  https://maps.googleapis.com/maps/api/distancem...\n",
       "2  https://maps.googleapis.com/maps/api/distancem...\n",
       "3  https://maps.googleapis.com/maps/api/distancem...\n",
       "4  https://maps.googleapis.com/maps/api/distancem..."
      ]
     },
     "execution_count": 18,
     "metadata": {},
     "output_type": "execute_result"
    }
   ],
   "source": [
    "df.head()"
   ]
  },
  {
   "cell_type": "code",
   "execution_count": 21,
   "metadata": {
    "collapsed": false
   },
   "outputs": [],
   "source": [
    "#Send each URL to API and capture response in new column in dataframe\n",
    "df['response'] = df['urls'].map(lambda x: requests.get(x).json())"
   ]
  },
  {
   "cell_type": "code",
   "execution_count": 24,
   "metadata": {
    "collapsed": false
   },
   "outputs": [
    {
     "data": {
      "text/html": [
       "<div>\n",
       "<table border=\"1\" class=\"dataframe\">\n",
       "  <thead>\n",
       "    <tr style=\"text-align: right;\">\n",
       "      <th></th>\n",
       "      <th>urls</th>\n",
       "      <th>response</th>\n",
       "    </tr>\n",
       "  </thead>\n",
       "  <tbody>\n",
       "    <tr>\n",
       "      <th>1723</th>\n",
       "      <td>https://maps.googleapis.com/maps/api/distancem...</td>\n",
       "      <td>{'destination_addresses': ['3710-3714 Slopevie...</td>\n",
       "    </tr>\n",
       "    <tr>\n",
       "      <th>1724</th>\n",
       "      <td>https://maps.googleapis.com/maps/api/distancem...</td>\n",
       "      <td>{'destination_addresses': ['3710-3714 Slopevie...</td>\n",
       "    </tr>\n",
       "    <tr>\n",
       "      <th>1725</th>\n",
       "      <td>https://maps.googleapis.com/maps/api/distancem...</td>\n",
       "      <td>{'destination_addresses': ['3710-3714 Slopevie...</td>\n",
       "    </tr>\n",
       "    <tr>\n",
       "      <th>1726</th>\n",
       "      <td>https://maps.googleapis.com/maps/api/distancem...</td>\n",
       "      <td>{'destination_addresses': ['3710-3714 Slopevie...</td>\n",
       "    </tr>\n",
       "    <tr>\n",
       "      <th>1727</th>\n",
       "      <td>https://maps.googleapis.com/maps/api/distancem...</td>\n",
       "      <td>{'destination_addresses': ['3710-3714 Slopevie...</td>\n",
       "    </tr>\n",
       "  </tbody>\n",
       "</table>\n",
       "</div>"
      ],
      "text/plain": [
       "                                                   urls  \\\n",
       "1723  https://maps.googleapis.com/maps/api/distancem...   \n",
       "1724  https://maps.googleapis.com/maps/api/distancem...   \n",
       "1725  https://maps.googleapis.com/maps/api/distancem...   \n",
       "1726  https://maps.googleapis.com/maps/api/distancem...   \n",
       "1727  https://maps.googleapis.com/maps/api/distancem...   \n",
       "\n",
       "                                               response  \n",
       "1723  {'destination_addresses': ['3710-3714 Slopevie...  \n",
       "1724  {'destination_addresses': ['3710-3714 Slopevie...  \n",
       "1725  {'destination_addresses': ['3710-3714 Slopevie...  \n",
       "1726  {'destination_addresses': ['3710-3714 Slopevie...  \n",
       "1727  {'destination_addresses': ['3710-3714 Slopevie...  "
      ]
     },
     "execution_count": 24,
     "metadata": {},
     "output_type": "execute_result"
    }
   ],
   "source": [
    "df.tail()"
   ]
  },
  {
   "cell_type": "code",
   "execution_count": 36,
   "metadata": {
    "collapsed": false
   },
   "outputs": [],
   "source": [
    "#Save responses into pickle file so don't have to make API calls again if something goes wrong later\n",
    "with open('dataframe.p', 'wb') as f:\n",
    "    pickle.dump(df,f)"
   ]
  },
  {
   "cell_type": "code",
   "execution_count": 53,
   "metadata": {
    "collapsed": false
   },
   "outputs": [],
   "source": [
    "#Define function to unpack the json response into individual fields\n",
    "def unpack_json(data):\n",
    "    if data['status'] == 'OK':\n",
    "        values = data['rows'][0]['elements'][0]\n",
    "        return [\n",
    "            data['destination_addresses'][0],\n",
    "            data['origin_addresses'][0],\n",
    "            values['distance']['value'],\n",
    "            values['duration']['value'],\n",
    "            values.get('duration_in_traffic', {'value':None})['value']\n",
    "        ]\n",
    "    else:\n",
    "        return [''] * 5"
   ]
  },
  {
   "cell_type": "code",
   "execution_count": 54,
   "metadata": {
    "collapsed": false
   },
   "outputs": [],
   "source": [
    "#Run function and store data into new columns in dataframe\n",
    "df['dest'], df['orgin'], df['dist'], df['dura'], df['dura_t'] = zip(*df['response'].map(unpack_json))"
   ]
  },
  {
   "cell_type": "code",
   "execution_count": 55,
   "metadata": {
    "collapsed": false
   },
   "outputs": [
    {
     "data": {
      "text/html": [
       "<div>\n",
       "<table border=\"1\" class=\"dataframe\">\n",
       "  <thead>\n",
       "    <tr style=\"text-align: right;\">\n",
       "      <th></th>\n",
       "      <th>urls</th>\n",
       "      <th>response</th>\n",
       "      <th>dest</th>\n",
       "      <th>orgin</th>\n",
       "      <th>dist</th>\n",
       "      <th>dura</th>\n",
       "      <th>dura_t</th>\n",
       "    </tr>\n",
       "  </thead>\n",
       "  <tbody>\n",
       "    <tr>\n",
       "      <th>0</th>\n",
       "      <td>https://maps.googleapis.com/maps/api/distancem...</td>\n",
       "      <td>{'destination_addresses': ['552-598 Broadway, ...</td>\n",
       "      <td>552-598 Broadway, Redwood City, CA 94063, USA</td>\n",
       "      <td>Junipero Serra Fwy, Los Altos Hills, CA 94022,...</td>\n",
       "      <td>19148</td>\n",
       "      <td>1098</td>\n",
       "      <td>923</td>\n",
       "    </tr>\n",
       "    <tr>\n",
       "      <th>1</th>\n",
       "      <td>https://maps.googleapis.com/maps/api/distancem...</td>\n",
       "      <td>{'destination_addresses': ['552-598 Broadway, ...</td>\n",
       "      <td>552-598 Broadway, Redwood City, CA 94063, USA</td>\n",
       "      <td>Junipero Serra Fwy, Los Altos Hills, CA 94022,...</td>\n",
       "      <td>19148</td>\n",
       "      <td>1098</td>\n",
       "      <td>988</td>\n",
       "    </tr>\n",
       "    <tr>\n",
       "      <th>2</th>\n",
       "      <td>https://maps.googleapis.com/maps/api/distancem...</td>\n",
       "      <td>{'destination_addresses': ['552-598 Broadway, ...</td>\n",
       "      <td>552-598 Broadway, Redwood City, CA 94063, USA</td>\n",
       "      <td>Junipero Serra Fwy, Los Altos Hills, CA 94022,...</td>\n",
       "      <td>19148</td>\n",
       "      <td>1098</td>\n",
       "      <td>1110</td>\n",
       "    </tr>\n",
       "    <tr>\n",
       "      <th>3</th>\n",
       "      <td>https://maps.googleapis.com/maps/api/distancem...</td>\n",
       "      <td>{'destination_addresses': ['552-598 Broadway, ...</td>\n",
       "      <td>552-598 Broadway, Redwood City, CA 94063, USA</td>\n",
       "      <td>Junipero Serra Fwy, Los Altos Hills, CA 94022,...</td>\n",
       "      <td>19148</td>\n",
       "      <td>1098</td>\n",
       "      <td>1290</td>\n",
       "    </tr>\n",
       "    <tr>\n",
       "      <th>4</th>\n",
       "      <td>https://maps.googleapis.com/maps/api/distancem...</td>\n",
       "      <td>{'destination_addresses': ['552-598 Broadway, ...</td>\n",
       "      <td>552-598 Broadway, Redwood City, CA 94063, USA</td>\n",
       "      <td>Junipero Serra Fwy, Los Altos Hills, CA 94022,...</td>\n",
       "      <td>19148</td>\n",
       "      <td>1098</td>\n",
       "      <td>1175</td>\n",
       "    </tr>\n",
       "  </tbody>\n",
       "</table>\n",
       "</div>"
      ],
      "text/plain": [
       "                                                urls  \\\n",
       "0  https://maps.googleapis.com/maps/api/distancem...   \n",
       "1  https://maps.googleapis.com/maps/api/distancem...   \n",
       "2  https://maps.googleapis.com/maps/api/distancem...   \n",
       "3  https://maps.googleapis.com/maps/api/distancem...   \n",
       "4  https://maps.googleapis.com/maps/api/distancem...   \n",
       "\n",
       "                                            response  \\\n",
       "0  {'destination_addresses': ['552-598 Broadway, ...   \n",
       "1  {'destination_addresses': ['552-598 Broadway, ...   \n",
       "2  {'destination_addresses': ['552-598 Broadway, ...   \n",
       "3  {'destination_addresses': ['552-598 Broadway, ...   \n",
       "4  {'destination_addresses': ['552-598 Broadway, ...   \n",
       "\n",
       "                                            dest  \\\n",
       "0  552-598 Broadway, Redwood City, CA 94063, USA   \n",
       "1  552-598 Broadway, Redwood City, CA 94063, USA   \n",
       "2  552-598 Broadway, Redwood City, CA 94063, USA   \n",
       "3  552-598 Broadway, Redwood City, CA 94063, USA   \n",
       "4  552-598 Broadway, Redwood City, CA 94063, USA   \n",
       "\n",
       "                                               orgin   dist  dura dura_t  \n",
       "0  Junipero Serra Fwy, Los Altos Hills, CA 94022,...  19148  1098    923  \n",
       "1  Junipero Serra Fwy, Los Altos Hills, CA 94022,...  19148  1098    988  \n",
       "2  Junipero Serra Fwy, Los Altos Hills, CA 94022,...  19148  1098   1110  \n",
       "3  Junipero Serra Fwy, Los Altos Hills, CA 94022,...  19148  1098   1290  \n",
       "4  Junipero Serra Fwy, Los Altos Hills, CA 94022,...  19148  1098   1175  "
      ]
     },
     "execution_count": 55,
     "metadata": {},
     "output_type": "execute_result"
    }
   ],
   "source": [
    "df.head()"
   ]
  },
  {
   "cell_type": "code",
   "execution_count": 56,
   "metadata": {
    "collapsed": false
   },
   "outputs": [],
   "source": [
    "#Write final dataframe to csv file\n",
    "df.to_csv('results.csv', index=False)"
   ]
  },
  {
   "cell_type": "code",
   "execution_count": null,
   "metadata": {
    "collapsed": true
   },
   "outputs": [],
   "source": []
  }
 ],
 "metadata": {
  "kernelspec": {
   "display_name": "Python 3",
   "language": "python",
   "name": "python3"
  },
  "language_info": {
   "codemirror_mode": {
    "name": "ipython",
    "version": 3
   },
   "file_extension": ".py",
   "mimetype": "text/x-python",
   "name": "python",
   "nbconvert_exporter": "python",
   "pygments_lexer": "ipython3",
   "version": "3.6.0"
  }
 },
 "nbformat": 4,
 "nbformat_minor": 2
}
